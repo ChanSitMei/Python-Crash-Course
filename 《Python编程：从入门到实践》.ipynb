{
 "cells": [
  {
   "cell_type": "markdown",
   "id": "6a313916",
   "metadata": {},
   "source": [
    "# 第一章   起步"
   ]
  },
  {
   "cell_type": "markdown",
   "id": "326f42d7",
   "metadata": {},
   "source": [
    "python文件的后缀名为.py"
   ]
  },
  {
   "cell_type": "code",
   "execution_count": 1,
   "id": "f3e1a73c",
   "metadata": {},
   "outputs": [
    {
     "name": "stdout",
     "output_type": "stream",
     "text": [
      "Hello,Python!\n"
     ]
    }
   ],
   "source": [
    "print(\"Hello,Python!\")"
   ]
  },
  {
   "cell_type": "markdown",
   "id": "bc1b6688",
   "metadata": {},
   "source": [
    "# 第二章   变量和简单数据类型"
   ]
  },
  {
   "cell_type": "markdown",
   "id": "008898ab",
   "metadata": {},
   "source": [
    "## 2.2  变量"
   ]
  },
  {
   "cell_type": "code",
   "execution_count": 2,
   "id": "90152862",
   "metadata": {},
   "outputs": [
    {
     "name": "stdout",
     "output_type": "stream",
     "text": [
      "Hello Python world!\n"
     ]
    }
   ],
   "source": [
    "message = \"Hello Python world!\"\n",
    "print(message)"
   ]
  },
  {
   "cell_type": "code",
   "execution_count": 1,
   "id": "10b203c2",
   "metadata": {},
   "outputs": [
    {
     "name": "stdout",
     "output_type": "stream",
     "text": [
      "Hello Python world!\n",
      "Hello Python Crash Course world!\n"
     ]
    }
   ],
   "source": [
    "message = \"Hello Python world!\"\n",
    "print(message)\n",
    "message = \"Hello Python Crash Course world!\"\n",
    "print(message)"
   ]
  },
  {
   "cell_type": "markdown",
   "id": "cf2e8e55",
   "metadata": {},
   "source": [
    "### 2.2.1 变量的命名和使用"
   ]
  },
  {
   "cell_type": "markdown",
   "id": "6ca29f43",
   "metadata": {},
   "source": [
    "变量名只能包含字母、数字和下划线"
   ]
  }
 ],
 "metadata": {
  "kernelspec": {
   "display_name": "Python 3 (ipykernel)",
   "language": "python",
   "name": "python3"
  },
  "language_info": {
   "codemirror_mode": {
    "name": "ipython",
    "version": 3
   },
   "file_extension": ".py",
   "mimetype": "text/x-python",
   "name": "python",
   "nbconvert_exporter": "python",
   "pygments_lexer": "ipython3",
   "version": "3.9.1"
  }
 },
 "nbformat": 4,
 "nbformat_minor": 5
}
